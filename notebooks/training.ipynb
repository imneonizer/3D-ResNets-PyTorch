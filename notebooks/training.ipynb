{
 "cells": [
  {
   "cell_type": "code",
   "execution_count": 14,
   "id": "0797f539-193a-47f2-8e39-edc38efbea45",
   "metadata": {},
   "outputs": [
    {
     "name": "stdout",
     "output_type": "stream",
     "text": [
      "/home/nitin/github/3D-ResNets-PyTorch\n"
     ]
    }
   ],
   "source": [
    "import os\n",
    "os.path.exists('models') or os.chdir(\"../\")\n",
    "print(os.getcwd())"
   ]
  },
  {
   "cell_type": "code",
   "execution_count": 15,
   "id": "d64779e2-95ab-4e4e-9ea9-c8d1d73a49a2",
   "metadata": {},
   "outputs": [
    {
     "name": "stdout",
     "output_type": "stream",
     "text": [
      "['archery', 'bowling', 'marching', 'flying_kite', 'high_jump']\n",
      "5\n"
     ]
    }
   ],
   "source": [
    "import json\n",
    "with open(\"/home/nitin/github/kinetics/images/kinetics.json\") as f:\n",
    "    labels = json.loads(f.read()).get(\"labels\")\n",
    "    print(labels)\n",
    "    print(len(labels))"
   ]
  },
  {
   "cell_type": "code",
   "execution_count": null,
   "id": "fcd68f1b-7ff8-4edc-a0d0-1982a95be7fb",
   "metadata": {},
   "outputs": [],
   "source": [
    "# training\n",
    "!mkdir -p ~/github/kinetics/images/results\n",
    "!python main.py \\\n",
    "    --root_path ~/github/kinetics/images \\\n",
    "    --video_path ~/github/kinetics/images \\\n",
    "    --annotation_path ~/github/kinetics/images/kinetics.json \\\n",
    "    --result_path results \\\n",
    "    --dataset kinetics \\\n",
    "    --model resnet \\\n",
    "    --model_depth 50 \\\n",
    "    --n_classes 5 \\\n",
    "    --batch_size 4 \\\n",
    "    --n_threads 4 \\\n",
    "    --checkpoint 5"
   ]
  },
  {
   "cell_type": "code",
   "execution_count": null,
   "id": "923af886-b153-4725-b439-88c6107ef889",
   "metadata": {},
   "outputs": [],
   "source": [
    "# inference\n",
    "!python main.py \\\n",
    "    --root_path ~/github/kinetics/images \\\n",
    "    --video_path ~/github/kinetics/images \\\n",
    "    --annotation_path ~/github/kinetics/images/kinetics.json \\\n",
    "    --result_path results \\\n",
    "    --dataset kinetics \\\n",
    "    --model resnet \\\n",
    "    --model_depth 50 \\\n",
    "    --n_classes 5 \\\n",
    "    --n_threads 4 \\\n",
    "    --resume_path results/save_200.pth \\\n",
    "    --no_train \\\n",
    "    --no_val \\\n",
    "    --inference \\\n",
    "    --output_topk 5 \\\n",
    "    --inference_batch_size 1"
   ]
  },
  {
   "cell_type": "code",
   "execution_count": 30,
   "id": "d5702551-649d-4828-90f1-78360ce9cbab",
   "metadata": {},
   "outputs": [
    {
     "name": "stdout",
     "output_type": "stream",
     "text": [
      "load ground truth\n",
      "number of ground truth: 50\n",
      "load result\n",
      "number of result: 50\n",
      "calculate top-1 accuracy\n",
      "top-1 accuracy: 0.3\n"
     ]
    }
   ],
   "source": [
    "#evaluate\n",
    "!python util_scripts/eval_accuracy.py \\\n",
    "    ~/github/kinetics/images/kinetics.json \\\n",
    "    ~/github/kinetics/images/results/val.json \\\n",
    "    -k 1 \\\n",
    "    --subset val"
   ]
  }
 ],
 "metadata": {
  "kernelspec": {
   "display_name": "Python 3",
   "language": "python",
   "name": "python3"
  },
  "language_info": {
   "codemirror_mode": {
    "name": "ipython",
    "version": 3
   },
   "file_extension": ".py",
   "mimetype": "text/x-python",
   "name": "python",
   "nbconvert_exporter": "python",
   "pygments_lexer": "ipython3",
   "version": "3.8.5"
  }
 },
 "nbformat": 4,
 "nbformat_minor": 5
}
