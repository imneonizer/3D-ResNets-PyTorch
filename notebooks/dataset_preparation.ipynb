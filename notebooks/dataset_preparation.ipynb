{
 "cells": [
  {
   "cell_type": "code",
   "execution_count": 1,
   "id": "5f57de33-cfc9-4ded-8297-2d1004b1cd51",
   "metadata": {},
   "outputs": [
    {
     "name": "stdout",
     "output_type": "stream",
     "text": [
      "/home/nitin/github/3D-ResNets-PyTorch\n"
     ]
    }
   ],
   "source": [
    "import os\n",
    "os.path.exists('models') or os.chdir(\"../\")\n",
    "print(os.getcwd())"
   ]
  },
  {
   "cell_type": "code",
   "execution_count": 12,
   "id": "df5ec09a-4cc0-43da-8682-9090e2f31f64",
   "metadata": {},
   "outputs": [
    {
     "name": "stdout",
     "output_type": "stream",
     "text": [
      "\u001b[01;34m/home/nitin/github/kinetics/videos/\u001b[00m\n",
      "├── \u001b[01;34mpredict\u001b[00m\n",
      "│   ├── \u001b[01;35m07xOT83TIG4_000040_000050.mp4\u001b[00m\n",
      "│   ├── \u001b[01;35m0S-P4lr_c7s_000022_000032.mp4\u001b[00m\n",
      "│   ├── \u001b[01;35m5gVK5JsNRSc_000005_000015.mp4\u001b[00m\n",
      "│   ├── \u001b[01;35m5NLQMrXzCQA_000003_000013.mp4\u001b[00m\n",
      "│   └── \u001b[01;35m6ofkyLo6dns_000102_000112.mp4\u001b[00m\n",
      "├── \u001b[01;34mtrain\u001b[00m\n",
      "│   ├── \u001b[01;34marchery\u001b[00m [10 entries exceeds filelimit, not opening dir]\n",
      "│   ├── \u001b[01;34mbowling\u001b[00m [10 entries exceeds filelimit, not opening dir]\n",
      "│   ├── \u001b[01;34mflying_kite\u001b[00m [10 entries exceeds filelimit, not opening dir]\n",
      "│   ├── \u001b[01;34mhigh_jump\u001b[00m [10 entries exceeds filelimit, not opening dir]\n",
      "│   └── \u001b[01;34mmarching\u001b[00m [10 entries exceeds filelimit, not opening dir]\n",
      "└── \u001b[01;34mval\u001b[00m\n",
      "    ├── \u001b[01;34marchery\u001b[00m [10 entries exceeds filelimit, not opening dir]\n",
      "    ├── \u001b[01;34mbowling\u001b[00m [10 entries exceeds filelimit, not opening dir]\n",
      "    ├── \u001b[01;34mflying_kite\u001b[00m [10 entries exceeds filelimit, not opening dir]\n",
      "    ├── \u001b[01;34mhigh_jump\u001b[00m [10 entries exceeds filelimit, not opening dir]\n",
      "    └── \u001b[01;34mmarching\u001b[00m [10 entries exceeds filelimit, not opening dir]\n",
      "\n",
      "13 directories, 5 files\n"
     ]
    }
   ],
   "source": [
    "!tree ~/github/kinetics/videos/ --dirsfirst --filelimit=5"
   ]
  },
  {
   "cell_type": "code",
   "execution_count": null,
   "id": "bee0c2d0-962e-4534-bcc8-d5650198c3ff",
   "metadata": {},
   "outputs": [],
   "source": [
    "!python ~/github/extract_frames.py \\\n",
    "    -i ~/github/kinetics/videos \\\n",
    "    -o ~/github/kinetics/images \\\n",
    "    -n image \\\n",
    "    -f 10 \\\n",
    "    -s 240x240 \\\n",
    "    -w 8 \\\n",
    "    -r"
   ]
  },
  {
   "cell_type": "code",
   "execution_count": 15,
   "id": "5c429348-6ad3-4f7b-aabd-b235dc46336d",
   "metadata": {},
   "outputs": [
    {
     "name": "stdout",
     "output_type": "stream",
     "text": [
      "\u001b[01;34m/home/nitin/github/kinetics/images/\u001b[00m\n",
      "├── \u001b[01;34mpredict\u001b[00m\n",
      "│   ├── \u001b[01;34m07xOT83TIG4_000040_000050\u001b[00m [100 entries exceeds filelimit, not opening dir]\n",
      "│   ├── \u001b[01;34m0S-P4lr_c7s_000022_000032\u001b[00m [100 entries exceeds filelimit, not opening dir]\n",
      "│   ├── \u001b[01;34m5gVK5JsNRSc_000005_000015\u001b[00m [74 entries exceeds filelimit, not opening dir]\n",
      "│   ├── \u001b[01;34m5NLQMrXzCQA_000003_000013\u001b[00m [73 entries exceeds filelimit, not opening dir]\n",
      "│   └── \u001b[01;34m6ofkyLo6dns_000102_000112\u001b[00m [99 entries exceeds filelimit, not opening dir]\n",
      "├── \u001b[01;34mtrain\u001b[00m\n",
      "│   ├── \u001b[01;34marchery\u001b[00m [10 entries exceeds filelimit, not opening dir]\n",
      "│   ├── \u001b[01;34mbowling\u001b[00m [10 entries exceeds filelimit, not opening dir]\n",
      "│   ├── \u001b[01;34mflying_kite\u001b[00m [10 entries exceeds filelimit, not opening dir]\n",
      "│   ├── \u001b[01;34mhigh_jump\u001b[00m [10 entries exceeds filelimit, not opening dir]\n",
      "│   └── \u001b[01;34mmarching\u001b[00m [10 entries exceeds filelimit, not opening dir]\n",
      "└── \u001b[01;34mval\u001b[00m\n",
      "    ├── \u001b[01;34marchery\u001b[00m [10 entries exceeds filelimit, not opening dir]\n",
      "    ├── \u001b[01;34mbowling\u001b[00m [10 entries exceeds filelimit, not opening dir]\n",
      "    ├── \u001b[01;34mflying_kite\u001b[00m [10 entries exceeds filelimit, not opening dir]\n",
      "    ├── \u001b[01;34mhigh_jump\u001b[00m [10 entries exceeds filelimit, not opening dir]\n",
      "    └── \u001b[01;34mmarching\u001b[00m [10 entries exceeds filelimit, not opening dir]\n",
      "\n",
      "18 directories, 0 files\n"
     ]
    }
   ],
   "source": [
    "!tree ~/github/kinetics/images/ --dirsfirst --filelimit=5"
   ]
  },
  {
   "cell_type": "code",
   "execution_count": 9,
   "id": "ab3f5361-a143-4029-b26d-2cc9e3757c59",
   "metadata": {},
   "outputs": [],
   "source": [
    "import json\n",
    "import os\n",
    "import glob\n",
    "from os.path import join, basename\n",
    "\n",
    "class KineticsJSON:\n",
    "    def get_data(self, path, subset=None):\n",
    "        data = {}\n",
    "        subset = subset or path.split(\"/\")[-1]\n",
    "        files = glob.glob(path +\"/*/*\")\n",
    "        for f in files:\n",
    "            if os.path.isdir(f):\n",
    "                label = f.split(\"/\")[-2]\n",
    "                data[basename(f)] = {\n",
    "                    \"subset\": subset,\n",
    "                    \"video_path\": os.path.realpath(f),\n",
    "                    \"annotations\": {\"label\": label, \"segment\": (1, len(os.listdir(f)))}\n",
    "                }\n",
    "        return data\n",
    "\n",
    "    def run(self, dataset_path):\n",
    "        train = join(dataset_path, \"train\")\n",
    "        val = join(dataset_path, \"val\")\n",
    "        \n",
    "        data = {}\n",
    "        data[\"labels\"] = os.listdir(train)\n",
    "        data[\"database\"] = {}\n",
    "        data[\"database\"].update(self.get_data(train, \"train\"))\n",
    "        data[\"database\"].update(self.get_data(val, \"val\"))\n",
    "        return data\n",
    "\n",
    "data = KineticsJSON().run(\"/home/nitin/github/kinetics/images\")\n",
    "with open(\"/home/nitin/github/kinetics/images/kinetics.json\", \"w\") as f:\n",
    "    f.write(json.dumps(data, indent=4))"
   ]
  }
 ],
 "metadata": {
  "kernelspec": {
   "display_name": "Python 3",
   "language": "python",
   "name": "python3"
  },
  "language_info": {
   "codemirror_mode": {
    "name": "ipython",
    "version": 3
   },
   "file_extension": ".py",
   "mimetype": "text/x-python",
   "name": "python",
   "nbconvert_exporter": "python",
   "pygments_lexer": "ipython3",
   "version": "3.8.5"
  }
 },
 "nbformat": 4,
 "nbformat_minor": 5
}
